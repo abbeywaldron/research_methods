{
 "cells": [
  {
   "cell_type": "markdown",
   "id": "0a70b1b8",
   "metadata": {},
   "source": [
    "# Visualisation 3\n",
    "\n",
    "Today we will learn about reading in data, histograms and error bars."
   ]
  },
  {
   "cell_type": "code",
   "execution_count": 1,
   "id": "7d291671",
   "metadata": {},
   "outputs": [],
   "source": [
    "import numpy as np\n",
    "import matplotlib.pyplot as plt"
   ]
  },
  {
   "cell_type": "markdown",
   "id": "40fee428",
   "metadata": {},
   "source": [
    "### Exercise 1: Reading in data\n",
    "\n",
    "The file `example.csv` contains two columns and ten rows and is comma separated.  The first column corresponds to `x` values and the second column to `y` values.  Use `numpy`'s `loadtxt` function to read in the data (https://numpy.org/doc/stable/reference/generated/numpy.loadtxt.html) and then print the data to make sure it looks like it did in the file.  If you are having trouble make sure you have set the `delimiter` correctly."
   ]
  },
  {
   "cell_type": "code",
   "execution_count": null,
   "id": "8450be32",
   "metadata": {},
   "outputs": [],
   "source": []
  },
  {
   "cell_type": "markdown",
   "id": "8db86eec",
   "metadata": {},
   "source": [
    "Split the data into `x` and `y` arrays (1st and 2nd column respectively) and plot the data."
   ]
  },
  {
   "cell_type": "code",
   "execution_count": null,
   "id": "ef7f74b0",
   "metadata": {},
   "outputs": [],
   "source": []
  },
  {
   "cell_type": "markdown",
   "id": "3bd9a508",
   "metadata": {},
   "source": [
    "### Exercise 2: Histograms\n",
    "\n",
    "You are given the following data:"
   ]
  },
  {
   "cell_type": "code",
   "execution_count": 2,
   "id": "32b2f3a2",
   "metadata": {},
   "outputs": [],
   "source": [
    "data = np.random.normal(4.0,1.0,10000)"
   ]
  },
  {
   "cell_type": "markdown",
   "id": "126d1688",
   "metadata": {},
   "source": [
    "Plot the data using a histogram (https://matplotlib.org/stable/api/_as_gen/matplotlib.pyplot.hist.html).  Change the binning so that the distribution looks reasonable and check that you have a sensible number of bins."
   ]
  },
  {
   "cell_type": "code",
   "execution_count": null,
   "id": "fc76a58e",
   "metadata": {},
   "outputs": [],
   "source": []
  },
  {
   "cell_type": "markdown",
   "id": "34552ecf",
   "metadata": {},
   "source": [
    "### Exercise 3: Error bars\n",
    "\n",
    "You are given the following data with uncertainties:"
   ]
  },
  {
   "cell_type": "code",
   "execution_count": 3,
   "id": "f42008e5",
   "metadata": {},
   "outputs": [],
   "source": [
    "xs = [2,4,6,8,10]\n",
    "x_sigmas = [1.0,1.0,1.0,1.0,1.0]\n",
    "ys = [1.0,3.0,5.0,6.0,7.0]\n",
    "y_sigmas = [0.1,0.3,0.5,0.6,0.7]"
   ]
  },
  {
   "cell_type": "markdown",
   "id": "8a87e4ae",
   "metadata": {},
   "source": [
    "Plot these data using https://matplotlib.org/stable/api/_as_gen/matplotlib.pyplot.errorbar.html.  Often you might want to plot the data as markers without lines connecting them, to do this you can use the option `fmt='.'`."
   ]
  },
  {
   "cell_type": "code",
   "execution_count": null,
   "id": "a4f7e81d",
   "metadata": {},
   "outputs": [],
   "source": []
  },
  {
   "cell_type": "markdown",
   "id": "bbc6db11",
   "metadata": {},
   "source": [
    "### Exercise 4 [ASSESSED!]: Error bars\n",
    "\n",
    "\n",
    "\n",
    "This is your third assessed plot of the course and forms one of three portfolio plots that need to be handed in at the portfolio deadline.  Remember to include axis labels, units, a legend and a sensible choice of colours/shades.  You are given the following data:"
   ]
  },
  {
   "cell_type": "code",
   "execution_count": 4,
   "id": "c06a816e",
   "metadata": {},
   "outputs": [],
   "source": [
    "x1 = np.arange(1,11,1)\n",
    "x2 = np.arange(1,11,1)\n",
    "y1 = [20,20,30,20,50,40,23,56,22,20]\n",
    "y2 = [10,13,14,12,11,10,10,15,13,12]"
   ]
  },
  {
   "cell_type": "markdown",
   "id": "8ba2a8b6",
   "metadata": {},
   "source": [
    "The uncertainty on both sets of `y` values is the Poisson uncertainty (square root of the value).  You can assume there is no uncertainty on the `x` values.  Plot the two sets of data on the same plot with their errors.  `x` is the day number, `y` is the number of cars observed.  Choose sensible axis limits and include a legend with labels (Dataset 1 and Dataset 2).  Save your figure as a pdf."
   ]
  },
  {
   "cell_type": "code",
   "execution_count": null,
   "id": "ffeea578",
   "metadata": {},
   "outputs": [],
   "source": []
  }
 ],
 "metadata": {
  "kernelspec": {
   "display_name": "Python 3 (ipykernel)",
   "language": "python",
   "name": "python3"
  },
  "language_info": {
   "codemirror_mode": {
    "name": "ipython",
    "version": 3
   },
   "file_extension": ".py",
   "mimetype": "text/x-python",
   "name": "python",
   "nbconvert_exporter": "python",
   "pygments_lexer": "ipython3",
   "version": "3.9.15"
  }
 },
 "nbformat": 4,
 "nbformat_minor": 5
}
